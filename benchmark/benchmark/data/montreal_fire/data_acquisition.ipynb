{
  "cells": [
    {
      "cell_type": "markdown",
      "metadata": {
        "id": "0WZa22KIbBSU"
      },
      "source": [
        "# Montreal Fire\n",
        "\n",
        "\n",
        "## Data Acquisition\n",
        "\n",
        "Once the whole data acquisition pipeline is completed. You need to manually upload the data file to HuggingFace and update the task's code to use the new version.\n",
        "\n",
        "\n",
        "### Download"
      ]
    },
    {
      "cell_type": "code",
      "execution_count": 1,
      "metadata": {
        "colab": {
          "base_uri": "https://localhost:8080/",
          "height": 258
        },
        "id": "VcT7G7PaS0Zn",
        "outputId": "d3941195-db87-4164-c814-1769088733d2"
      },
      "outputs": [
        {
          "name": "stdout",
          "output_type": "stream",
          "text": [
            "Min date: 2015-01-01 00:00:00\n",
            "Max date: 2024-08-25 00:00:00\n",
            "Number of entries: 1093883\n"
          ]
        },
        {
          "data": {
            "text/html": [
              "<div>\n",
              "<style scoped>\n",
              "    .dataframe tbody tr th:only-of-type {\n",
              "        vertical-align: middle;\n",
              "    }\n",
              "\n",
              "    .dataframe tbody tr th {\n",
              "        vertical-align: top;\n",
              "    }\n",
              "\n",
              "    .dataframe thead th {\n",
              "        text-align: right;\n",
              "    }\n",
              "</style>\n",
              "<table border=\"1\" class=\"dataframe\">\n",
              "  <thead>\n",
              "    <tr style=\"text-align: right;\">\n",
              "      <th></th>\n",
              "      <th>INCIDENT_NBR</th>\n",
              "      <th>CREATION_DATE_TIME</th>\n",
              "      <th>INCIDENT_TYPE_DESC</th>\n",
              "      <th>DESCRIPTION_GROUPE</th>\n",
              "      <th>CASERNE</th>\n",
              "      <th>NOM_VILLE</th>\n",
              "      <th>NOM_ARROND</th>\n",
              "      <th>DIVISION</th>\n",
              "      <th>NOMBRE_UNITES</th>\n",
              "      <th>MTM8_X</th>\n",
              "      <th>MTM8_Y</th>\n",
              "      <th>LONGITUDE</th>\n",
              "      <th>LATITUDE</th>\n",
              "    </tr>\n",
              "  </thead>\n",
              "  <tbody>\n",
              "    <tr>\n",
              "      <th>0</th>\n",
              "      <td>1808</td>\n",
              "      <td>2023-01-07</td>\n",
              "      <td>Premier répondant</td>\n",
              "      <td>1-REPOND</td>\n",
              "      <td>73</td>\n",
              "      <td>Montréal</td>\n",
              "      <td>Saint-Laurent</td>\n",
              "      <td>3</td>\n",
              "      <td>1.0</td>\n",
              "      <td>291515.4</td>\n",
              "      <td>5042217.3</td>\n",
              "      <td>-73.670048</td>\n",
              "      <td>45.519748</td>\n",
              "    </tr>\n",
              "    <tr>\n",
              "      <th>1</th>\n",
              "      <td>11457</td>\n",
              "      <td>2023-02-05</td>\n",
              "      <td>Appel de Cie de détection</td>\n",
              "      <td>Alarmes-incendies</td>\n",
              "      <td>25</td>\n",
              "      <td>Montréal</td>\n",
              "      <td>Ville-Marie</td>\n",
              "      <td>6</td>\n",
              "      <td>4.0</td>\n",
              "      <td>298482.0</td>\n",
              "      <td>5040264.1</td>\n",
              "      <td>-73.580848</td>\n",
              "      <td>45.502270</td>\n",
              "    </tr>\n",
              "    <tr>\n",
              "      <th>2</th>\n",
              "      <td>16508</td>\n",
              "      <td>2023-02-19</td>\n",
              "      <td>Premier répondant</td>\n",
              "      <td>1-REPOND</td>\n",
              "      <td>64</td>\n",
              "      <td>Montréal</td>\n",
              "      <td>Lachine</td>\n",
              "      <td>2</td>\n",
              "      <td>1.0</td>\n",
              "      <td>290911.5</td>\n",
              "      <td>5032451.0</td>\n",
              "      <td>-73.677501</td>\n",
              "      <td>45.431855</td>\n",
              "    </tr>\n",
              "    <tr>\n",
              "      <th>3</th>\n",
              "      <td>18702</td>\n",
              "      <td>2023-02-26</td>\n",
              "      <td>Ascenseur</td>\n",
              "      <td>SANS FEU</td>\n",
              "      <td>30</td>\n",
              "      <td>Montréal</td>\n",
              "      <td>Le Plateau-Mont-Royal</td>\n",
              "      <td>6</td>\n",
              "      <td>7.0</td>\n",
              "      <td>299264.4</td>\n",
              "      <td>5041129.8</td>\n",
              "      <td>-73.570845</td>\n",
              "      <td>45.510067</td>\n",
              "    </tr>\n",
              "    <tr>\n",
              "      <th>4</th>\n",
              "      <td>18705</td>\n",
              "      <td>2023-02-26</td>\n",
              "      <td>Premier répondant</td>\n",
              "      <td>1-REPOND</td>\n",
              "      <td>34</td>\n",
              "      <td>Montréal</td>\n",
              "      <td>Côte-des-Neiges-Notre-Dame-de-Grâce</td>\n",
              "      <td>3</td>\n",
              "      <td>1.0</td>\n",
              "      <td>295041.2</td>\n",
              "      <td>5038167.0</td>\n",
              "      <td>-73.624835</td>\n",
              "      <td>45.483359</td>\n",
              "    </tr>\n",
              "  </tbody>\n",
              "</table>\n",
              "</div>"
            ],
            "text/plain": [
              "   INCIDENT_NBR CREATION_DATE_TIME         INCIDENT_TYPE_DESC  \\\n",
              "0          1808         2023-01-07          Premier répondant   \n",
              "1         11457         2023-02-05  Appel de Cie de détection   \n",
              "2         16508         2023-02-19          Premier répondant   \n",
              "3         18702         2023-02-26                  Ascenseur   \n",
              "4         18705         2023-02-26          Premier répondant   \n",
              "\n",
              "  DESCRIPTION_GROUPE  CASERNE NOM_VILLE                           NOM_ARROND  \\\n",
              "0           1-REPOND       73  Montréal                        Saint-Laurent   \n",
              "1  Alarmes-incendies       25  Montréal                          Ville-Marie   \n",
              "2           1-REPOND       64  Montréal                              Lachine   \n",
              "3           SANS FEU       30  Montréal                Le Plateau-Mont-Royal   \n",
              "4           1-REPOND       34  Montréal  Côte-des-Neiges-Notre-Dame-de-Grâce   \n",
              "\n",
              "   DIVISION  NOMBRE_UNITES    MTM8_X     MTM8_Y  LONGITUDE   LATITUDE  \n",
              "0         3            1.0  291515.4  5042217.3 -73.670048  45.519748  \n",
              "1         6            4.0  298482.0  5040264.1 -73.580848  45.502270  \n",
              "2         2            1.0  290911.5  5032451.0 -73.677501  45.431855  \n",
              "3         6            7.0  299264.4  5041129.8 -73.570845  45.510067  \n",
              "4         3            1.0  295041.2  5038167.0 -73.624835  45.483359  "
            ]
          },
          "execution_count": 1,
          "metadata": {},
          "output_type": "execute_result"
        }
      ],
      "source": [
        "import pandas as pd\n",
        "\n",
        "from datetime import datetime\n",
        "\n",
        "# Load the two CSV files\n",
        "# Source: https://www.donneesquebec.ca/recherche/dataset/vmtl-interventions-service-securite-incendie-montreal\n",
        "\n",
        "# Download data\n",
        "# ... past two years\n",
        "df1 = pd.read_csv(\"https://donnees.montreal.ca/dataset/2fc8a2b9-1556-410e-a118-c46e97e9f19e/resource/71e86320-e35c-4b4c-878a-e52124294355/download/donneesouvertes-interventions-sim.csv\")\n",
        "# ... 2015 - 2022\n",
        "df2 = pd.read_csv(\"https://donnees.montreal.ca/dataset/2fc8a2b9-1556-410e-a118-c46e97e9f19e/resource/005e4eb6-0377-45bf-a911-7077fd3b5ed0/download/donneesouvertes-interventions-sim_2015_2022.csv\")\n",
        "\n",
        "# Concatenate the dataframes\n",
        "combined_df = pd.concat([df1, df2], ignore_index=True)\n",
        "\n",
        "# Uniformize dates and convert to datetime\n",
        "combined_df[\"CREATION_DATE_TIME\"] = pd.to_datetime(combined_df[\"CREATION_DATE_TIME\"].apply(lambda x: x.replace(\"/\", \"-\").split(\"T\")[0]))\n",
        "\n",
        "# Remove present month (to avoid incomplete data) -- Optional\n",
        "# XXX: In the current version of the data (August 2024), we included the current month since the day was 27\n",
        "# combined_df = combined_df.loc[combined_df[\"CREATION_DATE_TIME\"] < \"2024-08-01\"]\n",
        "\n",
        "# Show some stats\n",
        "print(\"Min date:\", combined_df[\"CREATION_DATE_TIME\"].min())\n",
        "print(\"Max date:\", combined_df[\"CREATION_DATE_TIME\"].max())\n",
        "print(\"Number of entries:\", len(combined_df))\n",
        "\n",
        "combined_df.head()"
      ]
    },
    {
      "cell_type": "markdown",
      "metadata": {
        "id": "d34SUiqNvSgg"
      },
      "source": [
        "### Preprocessing"
      ]
    },
    {
      "cell_type": "code",
      "execution_count": 2,
      "metadata": {
        "id": "1WDychsjvQ3g"
      },
      "outputs": [],
      "source": [
        "# Regroup all kinds of nautical rescues\n",
        "combined_df[\"INCIDENT_TYPE_DESC\"] = combined_df[\"INCIDENT_TYPE_DESC\"].apply(lambda x: \"Sauvetage Nautique\" if \"sauv. nautique\" in x.lower() else x)\n",
        "\n",
        "# Convert to english\n",
        "combined_df[\"INCIDENT_TYPE_DESC\"] = combined_df[\"INCIDENT_TYPE_DESC\"].apply(lambda x: x.replace(\"Déchets en feu\", \"Trash on fire\")\n",
        "                                                                                       .replace(\"Sauvetage Nautique\", \"Nautical rescue\")\n",
        "                                                                                       .replace(\"Feu de champ *\", \"Field fire\")\n",
        "                                          )"
      ]
    },
    {
      "cell_type": "markdown",
      "metadata": {
        "id": "4iY2gCfAv4Bp"
      },
      "source": [
        "### Save to disk"
      ]
    },
    {
      "cell_type": "code",
      "execution_count": 4,
      "metadata": {
        "id": "cGozrC2-W6tl"
      },
      "outputs": [],
      "source": [
        "combined_df.to_csv(f\"montreal_fire_{datetime.now().strftime('%Y-%m-%d')}.csv\")"
      ]
    }
  ],
  "metadata": {
    "colab": {
      "provenance": []
    },
    "kernelspec": {
      "display_name": "Python 3",
      "name": "python3"
    },
    "language_info": {
      "codemirror_mode": {
        "name": "ipython",
        "version": 3
      },
      "file_extension": ".py",
      "mimetype": "text/x-python",
      "name": "python",
      "nbconvert_exporter": "python",
      "pygments_lexer": "ipython3",
      "version": "3.10.13"
    }
  },
  "nbformat": 4,
  "nbformat_minor": 0
}

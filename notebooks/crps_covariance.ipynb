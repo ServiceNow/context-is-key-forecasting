{
 "cells": [
  {
   "cell_type": "markdown",
   "id": "3b849de9-b5df-4d57-bd8a-f55652dbb7bf",
   "metadata": {},
   "source": [
    "This notebook is there to give evidence that the formulaes used in `benchmark.metrics.crps` accurately estimate the covariance between the estimations of dependent CRPS.\n",
    "\n",
    "This is done by comparing the covariances obtained by repeatedly drawing from the forecast distribution and recomputing the CRPS, with the covariances obtained with the formulaes (also averaged over multiple drawing from the distribution)."
   ]
  },
  {
   "cell_type": "code",
   "execution_count": 9,
   "id": "5d4a913e-9e53-4c53-8328-6ebc6ebf3b97",
   "metadata": {},
   "outputs": [],
   "source": [
    "import numpy as np\n",
    "\n",
    "from benchmark.metrics.crps import crps, crps_covariance"
   ]
  },
  {
   "cell_type": "code",
   "execution_count": 2,
   "id": "89556e4d-c62b-46d1-b946-4ae19cfa25f6",
   "metadata": {},
   "outputs": [],
   "source": [
    "# The time to run this notebook will scale with:\n",
    "# O(NUM_TRIALS * NUM_SAMPLES ** 3)\n",
    "\n",
    "NUM_TRIALS = 1000000\n",
    "NUM_SAMPLES = 25"
   ]
  },
  {
   "cell_type": "markdown",
   "id": "2da24fb7-2b32-4a13-8555-3d1198e4ed74",
   "metadata": {},
   "source": [
    "# Variance of a single CRPS estimate"
   ]
  },
  {
   "cell_type": "markdown",
   "id": "1b468e17-26b6-4d61-84d4-a45461a2c70f",
   "metadata": {},
   "source": [
    "### Uniform distribution"
   ]
  },
  {
   "cell_type": "code",
   "execution_count": 3,
   "id": "4cccef65-17d5-4fa0-a0f2-2a684f45f40d",
   "metadata": {},
   "outputs": [
    {
     "name": "stdout",
     "output_type": "stream",
     "text": [
      "Measured = 0.00027645365384839775\n",
      "Formula  = 0.0002764035543528844\n",
      "Error    = 0.018%\n",
      "CPU times: user 2min 41s, sys: 36.5 ms, total: 2min 41s\n",
      "Wall time: 2min 41s\n"
     ]
    }
   ],
   "source": [
    "%%time\n",
    "target = np.random.random()\n",
    "\n",
    "crps_values = []\n",
    "for _ in range(NUM_TRIALS):\n",
    "    samples = np.random.random(NUM_SAMPLES)\n",
    "    crps_values.append(crps(np.array(target), samples))\n",
    "measured_variance = np.var(crps_values, ddof=1)\n",
    "\n",
    "formula_variances = []\n",
    "for _ in range(NUM_TRIALS):\n",
    "    samples = np.random.random(NUM_SAMPLES)\n",
    "    formula_variances.append(crps_covariance(\n",
    "        Xa=samples,\n",
    "        ya=target,\n",
    "        Xb=samples,\n",
    "        yb=target,\n",
    "    ))\n",
    "mean_formula_variance = np.mean(formula_variances)\n",
    "\n",
    "print(f\"Measured = {measured_variance}\")\n",
    "print(f\"Formula  = {mean_formula_variance}\")\n",
    "print(f\"Error    = {100 * np.abs(mean_formula_variance - measured_variance) / measured_variance:.3f}%\")"
   ]
  },
  {
   "cell_type": "markdown",
   "id": "95477a46-e1d6-41f8-b7b5-42d92d7bf1d4",
   "metadata": {},
   "source": [
    "### Normal distribution"
   ]
  },
  {
   "cell_type": "code",
   "execution_count": 4,
   "id": "bff151b8-a203-4d24-bbbf-349e630fda86",
   "metadata": {},
   "outputs": [
    {
     "name": "stdout",
     "output_type": "stream",
     "text": [
      "Measured = 0.01057775227306777\n",
      "Formula  = 0.010576824081399408\n",
      "Error    = 0.009%\n",
      "CPU times: user 2min 47s, sys: 55.4 ms, total: 2min 47s\n",
      "Wall time: 2min 47s\n"
     ]
    }
   ],
   "source": [
    "%%time\n",
    "target = np.random.random()\n",
    "\n",
    "crps_values = []\n",
    "for _ in range(NUM_TRIALS):\n",
    "    samples = np.random.standard_normal(NUM_SAMPLES)\n",
    "    crps_values.append(crps(np.array(target), samples))\n",
    "measured_variance = np.var(crps_values, ddof=1)\n",
    "\n",
    "formula_variances = []\n",
    "for _ in range(NUM_TRIALS):\n",
    "    samples = np.random.standard_normal(NUM_SAMPLES)\n",
    "    formula_variances.append(crps_covariance(\n",
    "        Xa=samples,\n",
    "        ya=target,\n",
    "        Xb=samples,\n",
    "        yb=target,\n",
    "    ))\n",
    "mean_formula_variance = np.mean(formula_variances)\n",
    "\n",
    "print(f\"Measured = {measured_variance}\")\n",
    "print(f\"Formula  = {mean_formula_variance}\")\n",
    "print(f\"Error    = {100 * np.abs(mean_formula_variance - measured_variance) / measured_variance:.3f}%\")"
   ]
  },
  {
   "cell_type": "markdown",
   "id": "3c32e8a1-0631-40ac-8edc-6a2861a56371",
   "metadata": {},
   "source": [
    "# Covariance of two independent CRPS estimates"
   ]
  },
  {
   "cell_type": "markdown",
   "id": "3f49c051-351d-404a-8cff-90ab0818a4df",
   "metadata": {},
   "source": [
    "### Uniform distribution"
   ]
  },
  {
   "cell_type": "code",
   "execution_count": 5,
   "id": "126ff03a-0d6b-4673-a254-708193f80d4e",
   "metadata": {},
   "outputs": [
    {
     "name": "stdout",
     "output_type": "stream",
     "text": [
      "Measured = -2.982969806225829e-07\n",
      "Formula  = -2.614016066430593e-07\n",
      "CPU times: user 2min 55s, sys: 136 ms, total: 2min 55s\n",
      "Wall time: 2min 55s\n"
     ]
    }
   ],
   "source": [
    "%%time\n",
    "target = np.random.random(2)\n",
    "\n",
    "crps_values = []\n",
    "for _ in range(NUM_TRIALS):\n",
    "    samples = np.random.random((NUM_SAMPLES, 2))\n",
    "    crps_values.append(crps(np.array(target), samples))\n",
    "measured_covariance = np.cov(crps_values, rowvar=False, ddof=1)[0,1]\n",
    "\n",
    "formula_covariances = []\n",
    "for _ in range(NUM_TRIALS):\n",
    "    samples = np.random.random((NUM_SAMPLES, 2))\n",
    "    formula_covariances.append(crps_covariance(\n",
    "        Xa=samples[:,0],\n",
    "        ya=target[0],\n",
    "        Xb=samples[:,1],\n",
    "        yb=target[1],\n",
    "    ))\n",
    "mean_formula_covariance = np.mean(formula_covariances)\n",
    "\n",
    "print(f\"Measured = {measured_covariance}\")\n",
    "print(f\"Formula  = {mean_formula_covariance}\")"
   ]
  },
  {
   "cell_type": "markdown",
   "id": "c3e57028-2351-400d-9122-b5811b00472d",
   "metadata": {},
   "source": [
    "### Normal distribution"
   ]
  },
  {
   "cell_type": "code",
   "execution_count": 6,
   "id": "908616ea-7410-4cd0-8331-69756bf65f57",
   "metadata": {},
   "outputs": [
    {
     "name": "stdout",
     "output_type": "stream",
     "text": [
      "Measured = -4.986207612162525e-06\n",
      "Formula  = 2.3010414186101426e-06\n",
      "CPU times: user 2min 54s, sys: 132 ms, total: 2min 54s\n",
      "Wall time: 2min 54s\n"
     ]
    }
   ],
   "source": [
    "%%time\n",
    "target = np.random.random(2)\n",
    "\n",
    "crps_values = []\n",
    "for _ in range(NUM_TRIALS):\n",
    "    samples = np.random.standard_normal((NUM_SAMPLES, 2))\n",
    "    crps_values.append(crps(np.array(target), samples))\n",
    "measured_covariance = np.cov(crps_values, rowvar=False, ddof=1)[0,1]\n",
    "\n",
    "formula_covariances = []\n",
    "for _ in range(NUM_TRIALS):\n",
    "    samples = np.random.standard_normal((NUM_SAMPLES, 2))\n",
    "    formula_covariances.append(crps_covariance(\n",
    "        Xa=samples[:,0],\n",
    "        ya=target[0],\n",
    "        Xb=samples[:,1],\n",
    "        yb=target[1],\n",
    "    ))\n",
    "mean_formula_covariance = np.mean(formula_covariances)\n",
    "\n",
    "print(f\"Measured = {measured_covariance}\")\n",
    "print(f\"Formula  = {mean_formula_covariance}\")"
   ]
  },
  {
   "cell_type": "markdown",
   "id": "ee80ca64-208c-44ca-9c74-50e36e9cc6b6",
   "metadata": {},
   "source": [
    "# Covariance of two dependent CRPS estimates"
   ]
  },
  {
   "cell_type": "markdown",
   "id": "a483ad75-7fa6-4250-b4bc-cc98ae0e2659",
   "metadata": {},
   "source": [
    "### Uniform distribution"
   ]
  },
  {
   "cell_type": "code",
   "execution_count": 7,
   "id": "decf3290-0883-4cbd-a45f-53eb33600105",
   "metadata": {},
   "outputs": [
    {
     "name": "stdout",
     "output_type": "stream",
     "text": [
      "Measured = 0.0003553556273485834 0.0003553556273485834\n",
      "Formula  = 0.00035366180262113954 0.00035366180262113954\n",
      "Error    = 0.477% 0.477%\n",
      "CPU times: user 5min 33s, sys: 164 ms, total: 5min 33s\n",
      "Wall time: 5min 33s\n"
     ]
    }
   ],
   "source": [
    "%%time\n",
    "target = np.random.random(2)\n",
    "transform = np.array([[1, -0.5], [0, 1]])\n",
    "\n",
    "crps_values = []\n",
    "for _ in range(NUM_TRIALS):\n",
    "    samples = np.random.random((NUM_SAMPLES, 2)) @ transform\n",
    "    crps_values.append(crps(np.array(target), samples))\n",
    "measured_covariance01 = np.cov(crps_values, rowvar=False, ddof=1)[0,1]\n",
    "measured_covariance10 = np.cov(crps_values, rowvar=False, ddof=1)[1,0]\n",
    "\n",
    "formula_covariances01 = []\n",
    "formula_covariances10 = []\n",
    "for _ in range(NUM_TRIALS):\n",
    "    samples = np.random.random((NUM_SAMPLES, 2)) @ transform\n",
    "    formula_covariances01.append(crps_covariance(\n",
    "        Xa=samples[:,0],\n",
    "        ya=target[0],\n",
    "        Xb=samples[:,1],\n",
    "        yb=target[1],\n",
    "    ))\n",
    "    formula_covariances10.append(crps_covariance(\n",
    "        Xa=samples[:,1],\n",
    "        ya=target[1],\n",
    "        Xb=samples[:,0],\n",
    "        yb=target[0],\n",
    "    ))\n",
    "mean_formula_covariance01 = np.mean(formula_covariances01)\n",
    "mean_formula_covariance10 = np.mean(formula_covariances10)\n",
    "\n",
    "print(f\"Measured = {measured_covariance01} {measured_covariance10}\")\n",
    "print(f\"Formula  = {mean_formula_covariance01} {mean_formula_covariance10}\")\n",
    "error01 = 100 * np.abs(mean_formula_covariance01 - measured_covariance01) / np.abs(measured_covariance01)\n",
    "error10 = 100 * np.abs(mean_formula_covariance10 - measured_covariance10) / np.abs(measured_covariance10)\n",
    "print(f\"Error    = {error01:.3f}% {error10:.3f}%\")"
   ]
  },
  {
   "cell_type": "markdown",
   "id": "2197c1cd-bb06-408e-a096-93d419037cce",
   "metadata": {},
   "source": [
    "### Normal distribution"
   ]
  },
  {
   "cell_type": "code",
   "execution_count": 8,
   "id": "53c05c00-824c-4515-a989-8d1287b169d6",
   "metadata": {},
   "outputs": [
    {
     "name": "stdout",
     "output_type": "stream",
     "text": [
      "Measured = 0.004972679182542276 0.004972679182542276\n",
      "Formula  = 0.004959576361471908 0.004959576361471908\n",
      "Error    = 0.263% 0.263%\n",
      "CPU times: user 5min 33s, sys: 160 ms, total: 5min 33s\n",
      "Wall time: 5min 33s\n"
     ]
    }
   ],
   "source": [
    "%%time\n",
    "target = np.random.random(2)\n",
    "transform = np.array([[1, 0.5], [0, 1]])\n",
    "\n",
    "crps_values = []\n",
    "for _ in range(NUM_TRIALS):\n",
    "    samples = np.random.standard_normal((NUM_SAMPLES, 2)) @ transform\n",
    "    crps_values.append(crps(np.array(target), samples))\n",
    "measured_covariance01 = np.cov(crps_values, rowvar=False, ddof=1)[0,1]\n",
    "measured_covariance10 = np.cov(crps_values, rowvar=False, ddof=1)[1,0]\n",
    "\n",
    "formula_covariances01 = []\n",
    "formula_covariances10 = []\n",
    "for _ in range(NUM_TRIALS):\n",
    "    samples = np.random.standard_normal((NUM_SAMPLES, 2)) @ transform\n",
    "    formula_covariances01.append(crps_covariance(\n",
    "        Xa=samples[:,0],\n",
    "        ya=target[0],\n",
    "        Xb=samples[:,1],\n",
    "        yb=target[1],\n",
    "    ))\n",
    "    formula_covariances10.append(crps_covariance(\n",
    "        Xa=samples[:,1],\n",
    "        ya=target[1],\n",
    "        Xb=samples[:,0],\n",
    "        yb=target[0],\n",
    "    ))\n",
    "mean_formula_covariance01 = np.mean(formula_covariances01)\n",
    "mean_formula_covariance10 = np.mean(formula_covariances10)\n",
    "\n",
    "print(f\"Measured = {measured_covariance01} {measured_covariance10}\")\n",
    "print(f\"Formula  = {mean_formula_covariance01} {mean_formula_covariance10}\")\n",
    "error01 = 100 * np.abs(mean_formula_covariance01 - measured_covariance01) / np.abs(measured_covariance01)\n",
    "error10 = 100 * np.abs(mean_formula_covariance10 - measured_covariance10) / np.abs(measured_covariance10)\n",
    "print(f\"Error    = {error01:.3f}% {error10:.3f}%\")"
   ]
  }
 ],
 "metadata": {
  "kernelspec": {
   "display_name": "Python 3 (ipykernel)",
   "language": "python",
   "name": "python3"
  },
  "language_info": {
   "codemirror_mode": {
    "name": "ipython",
    "version": 3
   },
   "file_extension": ".py",
   "mimetype": "text/x-python",
   "name": "python",
   "nbconvert_exporter": "python",
   "pygments_lexer": "ipython3",
   "version": "3.12.4"
  }
 },
 "nbformat": 4,
 "nbformat_minor": 5
}

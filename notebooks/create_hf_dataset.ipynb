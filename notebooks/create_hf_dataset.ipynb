{
 "cells": [
  {
   "cell_type": "markdown",
   "id": "617f08e1",
   "metadata": {},
   "source": [
    "This notebook is meant to generate a Hugging Face dataset containing all of the required data to run the benchmark and to compute the RCRPS from samples."
   ]
  },
  {
   "cell_type": "code",
   "execution_count": null,
   "id": "d0298a19",
   "metadata": {},
   "outputs": [],
   "source": [
    "from cik_benchmark import ALL_TASKS, TASK_NAME_TO_WEIGHT\n",
    "from cik_benchmark.metrics.constraints import ListConstraint, MaxConstraint, MinConstraint, VariableMaxConstraint\n",
    "from cik_benchmark.metrics.scaling_cache import DefaultScalingCache\n",
    "\n",
    "from datasets import Dataset, DatasetDict, Features, Value, Sequence"
   ]
  },
  {
   "cell_type": "code",
   "execution_count": null,
   "id": "dcb60c4d",
   "metadata": {},
   "outputs": [],
   "source": [
    "def roi_to_list(region_of_interest):\n",
    "    if region_of_interest is None:\n",
    "        return []\n",
    "    elif isinstance(region_of_interest, slice):\n",
    "        return list(range(region_of_interest.start, region_of_interest.stop, region_of_interest.step or 1))\n",
    "    elif isinstance(region_of_interest, list):\n",
    "        return region_of_interest\n",
    "    else:\n",
    "        raise ValueError(f\"Unexpected type for region_of_interest: {type(region_of_interest)}\")\n",
    "    \n",
    "def constraints_to_entries(metric_constraint):\n",
    "    min_constraint = -float(\"inf\")\n",
    "    max_constraint = float(\"inf\")\n",
    "    variable_max_constraint_index = []\n",
    "    variable_max_constraint_values = []\n",
    "\n",
    "    if isinstance(metric_constraint, ListConstraint):\n",
    "        for constraint in metric_constraint.constraints:\n",
    "            if isinstance(constraint, MinConstraint):\n",
    "                min_constraint = constraint.threshold\n",
    "            elif isinstance(constraint, MaxConstraint):\n",
    "                max_constraint = constraint.threshold\n",
    "            elif isinstance(constraint, VariableMaxConstraint):\n",
    "                variable_max_constraint_index = constraint.indices.tolist()\n",
    "                variable_max_constraint_values = constraint.thresholds.tolist()\n",
    "    elif isinstance(metric_constraint, MinConstraint):\n",
    "        min_constraint = metric_constraint.threshold\n",
    "    elif isinstance(metric_constraint, MaxConstraint):\n",
    "        max_constraint = metric_constraint.threshold\n",
    "    elif isinstance(metric_constraint, VariableMaxConstraint):\n",
    "        variable_max_constraint_index = metric_constraint.indices.tolist()\n",
    "        variable_max_constraint_values = metric_constraint.thresholds.tolist()\n",
    "    \n",
    "    return min_constraint, max_constraint, variable_max_constraint_index, variable_max_constraint_values"
   ]
  },
  {
   "cell_type": "code",
   "execution_count": null,
   "id": "77f00cb0",
   "metadata": {},
   "outputs": [],
   "source": [
    "instances_dict = {\n",
    "    \"name\": [],\n",
    "    \"seed\": [],\n",
    "    \"weight\": [],\n",
    "    \"context_sources\": [],\n",
    "    \"skills\": [],\n",
    "    \"background\": [],\n",
    "    \"scenario\": [],\n",
    "    \"constraints\": [],\n",
    "    \"seasonal_period\": [],\n",
    "    \"past_time\": [],\n",
    "    \"future_time\": [],\n",
    "    \"metric_scaling\": [],\n",
    "    \"region_of_interest\": [],\n",
    "    \"constraint_min\": [],\n",
    "    \"constraint_max\": [],\n",
    "    \"constraint_variable_max_index\": [],\n",
    "    \"constraint_variable_max_values\": [],\n",
    "}\n",
    "\n",
    "for task in ALL_TASKS:\n",
    "    for seed in range(1, 6):\n",
    "        instance = task(seed=seed)\n",
    "\n",
    "        min_constraint, max_constraint, variable_max_constraint_index, variable_max_constraint_values = constraints_to_entries(instance.metric_constraint)\n",
    "\n",
    "        instances_dict[\"name\"].append(instance.name)\n",
    "        instances_dict[\"seed\"].append(seed)\n",
    "        instances_dict[\"weight\"].append(str(TASK_NAME_TO_WEIGHT[instance.name]))\n",
    "        instances_dict[\"context_sources\"].append(instance._context_sources)\n",
    "        instances_dict[\"skills\"].append(instance._skills)\n",
    "        instances_dict[\"background\"].append(instance.background or \"\")\n",
    "        instances_dict[\"scenario\"].append(instance.scenario or \"\")\n",
    "        instances_dict[\"constraints\"].append(instance.constraints or \"\")\n",
    "        instances_dict[\"seasonal_period\"].append(instance.seasonal_period)\n",
    "        instances_dict[\"past_time\"].append(instance.past_time[[instance.past_time.columns[-1]]].to_json(date_format=\"iso\"))\n",
    "        instances_dict[\"future_time\"].append(instance.future_time[[instance.future_time.columns[-1]]].to_json(date_format=\"iso\"))\n",
    "        instances_dict[\"metric_scaling\"].append(DefaultScalingCache(task))\n",
    "        instances_dict[\"region_of_interest\"].append(roi_to_list(instance.region_of_interest))\n",
    "        instances_dict[\"constraint_min\"].append(min_constraint)\n",
    "        instances_dict[\"constraint_max\"].append(max_constraint)\n",
    "        instances_dict[\"constraint_variable_max_index\"].append(variable_max_constraint_index)\n",
    "        instances_dict[\"constraint_variable_max_values\"].append(variable_max_constraint_values)\n",
    "\n",
    "features = Features(\n",
    "    name=Value(dtype='string', id=None),\n",
    "    seed=Value(dtype='int64', id=None),\n",
    "    weight=Value(dtype='string', id=None),\n",
    "    context_sources=Sequence(feature=Value(dtype='string', id=None), length=-1, id=None),\n",
    "    skills=Sequence(feature=Value(dtype='string', id=None), length=-1, id=None),\n",
    "    background=Value(dtype='string', id=None),\n",
    "    scenario=Value(dtype='string', id=None),\n",
    "    constraints=Value(dtype='string', id=None),\n",
    "    seasonal_period=Value(dtype='int64', id=None),\n",
    "    past_time=Value(dtype='string', id=None),\n",
    "    future_time=Value(dtype='string', id=None),\n",
    "    metric_scaling=Value(dtype='float64', id=None),\n",
    "    region_of_interest=Sequence(feature=Value(dtype='int64', id=None), length=-1, id=None),\n",
    "    constraint_min=Value(dtype='float64', id=None),\n",
    "    constraint_max=Value(dtype='float64', id=None),\n",
    "    constraint_variable_max_index=Sequence(feature=Value(dtype='int64', id=None), length=-1, id=None),\n",
    "    constraint_variable_max_values=Sequence(feature=Value(dtype='float64', id=None), length=-1, id=None),\n",
    ")\n",
    "\n",
    "ds = Dataset.from_dict(instances_dict, features=features)"
   ]
  },
  {
   "cell_type": "code",
   "execution_count": null,
   "id": "89fa1ac8",
   "metadata": {},
   "outputs": [],
   "source": [
    "ds_dict = DatasetDict({\"test\": ds})\n",
    "ds_dict.push_to_hub(\"ServiceNow/context-is-key\", private=True)"
   ]
  },
  {
   "cell_type": "markdown",
   "id": "1f157519",
   "metadata": {},
   "source": [
    "Add a JSON version of the tasks in the repository"
   ]
  },
  {
   "cell_type": "code",
   "execution_count": null,
   "id": "7a23fde6",
   "metadata": {},
   "outputs": [],
   "source": [
    "ds.to_json(\"../results/all_tasks.json\")"
   ]
  }
 ],
 "metadata": {
  "kernelspec": {
   "display_name": "Python 3",
   "language": "python",
   "name": "python3"
  },
  "language_info": {
   "codemirror_mode": {
    "name": "ipython",
    "version": 3
   },
   "file_extension": ".py",
   "mimetype": "text/x-python",
   "name": "python",
   "nbconvert_exporter": "python",
   "pygments_lexer": "ipython3",
   "version": "3.12.9"
  }
 },
 "nbformat": 4,
 "nbformat_minor": 5
}
